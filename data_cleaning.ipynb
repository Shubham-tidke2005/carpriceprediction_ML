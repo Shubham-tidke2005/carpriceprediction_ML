{
 "cells": [
  {
   "cell_type": "code",
   "execution_count": 175,
   "id": "0ecdf121",
   "metadata": {},
   "outputs": [],
   "source": [
    "import pandas as pd    \n",
    "import numpy as np          \n",
    "import matplotlib.pyplot as plt \n",
    "import seaborn as sns                   "
   ]
  },
  {
   "cell_type": "code",
   "execution_count": 176,
   "id": "e2d51253",
   "metadata": {},
   "outputs": [
    {
     "data": {
      "text/html": [
       "<div>\n",
       "<style scoped>\n",
       "    .dataframe tbody tr th:only-of-type {\n",
       "        vertical-align: middle;\n",
       "    }\n",
       "\n",
       "    .dataframe tbody tr th {\n",
       "        vertical-align: top;\n",
       "    }\n",
       "\n",
       "    .dataframe thead th {\n",
       "        text-align: right;\n",
       "    }\n",
       "</style>\n",
       "<table border=\"1\" class=\"dataframe\">\n",
       "  <thead>\n",
       "    <tr style=\"text-align: right;\">\n",
       "      <th></th>\n",
       "      <th>Car_Name</th>\n",
       "      <th>Year</th>\n",
       "      <th>Present_Price</th>\n",
       "      <th>Kms_Driven</th>\n",
       "      <th>Fuel_Type</th>\n",
       "      <th>Seller_Type</th>\n",
       "      <th>Transmission</th>\n",
       "      <th>Owner</th>\n",
       "      <th>Selling_Price</th>\n",
       "    </tr>\n",
       "  </thead>\n",
       "  <tbody>\n",
       "    <tr>\n",
       "      <th>0</th>\n",
       "      <td>ritz</td>\n",
       "      <td>2014</td>\n",
       "      <td>5.59</td>\n",
       "      <td>27000</td>\n",
       "      <td>Petrol</td>\n",
       "      <td>Dealer</td>\n",
       "      <td>Manual</td>\n",
       "      <td>0</td>\n",
       "      <td>3.35</td>\n",
       "    </tr>\n",
       "    <tr>\n",
       "      <th>1</th>\n",
       "      <td>sx4</td>\n",
       "      <td>2013</td>\n",
       "      <td>9.54</td>\n",
       "      <td>43000</td>\n",
       "      <td>Diesel</td>\n",
       "      <td>Dealer</td>\n",
       "      <td>Manual</td>\n",
       "      <td>0</td>\n",
       "      <td>4.75</td>\n",
       "    </tr>\n",
       "    <tr>\n",
       "      <th>2</th>\n",
       "      <td>ciaz</td>\n",
       "      <td>2017</td>\n",
       "      <td>9.85</td>\n",
       "      <td>6900</td>\n",
       "      <td>Petrol</td>\n",
       "      <td>Dealer</td>\n",
       "      <td>Manual</td>\n",
       "      <td>0</td>\n",
       "      <td>7.25</td>\n",
       "    </tr>\n",
       "    <tr>\n",
       "      <th>3</th>\n",
       "      <td>wagon r</td>\n",
       "      <td>2011</td>\n",
       "      <td>4.15</td>\n",
       "      <td>5200</td>\n",
       "      <td>Petrol</td>\n",
       "      <td>Dealer</td>\n",
       "      <td>Manual</td>\n",
       "      <td>0</td>\n",
       "      <td>2.85</td>\n",
       "    </tr>\n",
       "  </tbody>\n",
       "</table>\n",
       "</div>"
      ],
      "text/plain": [
       "  Car_Name  Year  Present_Price  Kms_Driven Fuel_Type Seller_Type  \\\n",
       "0     ritz  2014           5.59       27000    Petrol      Dealer   \n",
       "1      sx4  2013           9.54       43000    Diesel      Dealer   \n",
       "2     ciaz  2017           9.85        6900    Petrol      Dealer   \n",
       "3  wagon r  2011           4.15        5200    Petrol      Dealer   \n",
       "\n",
       "  Transmission  Owner  Selling_Price  \n",
       "0       Manual      0           3.35  \n",
       "1       Manual      0           4.75  \n",
       "2       Manual      0           7.25  \n",
       "3       Manual      0           2.85  "
      ]
     },
     "execution_count": 176,
     "metadata": {},
     "output_type": "execute_result"
    }
   ],
   "source": [
    "df=pd.read_csv('cardata.csv')\n",
    "df.head(4)"
   ]
  },
  {
   "cell_type": "code",
   "execution_count": 177,
   "id": "00ddd639",
   "metadata": {},
   "outputs": [
    {
     "data": {
      "text/plain": [
       "Car_Name         0\n",
       "Year             0\n",
       "Present_Price    0\n",
       "Kms_Driven       0\n",
       "Fuel_Type        0\n",
       "Seller_Type      0\n",
       "Transmission     0\n",
       "Owner            0\n",
       "Selling_Price    0\n",
       "dtype: int64"
      ]
     },
     "execution_count": 177,
     "metadata": {},
     "output_type": "execute_result"
    }
   ],
   "source": [
    "df.isnull().sum()"
   ]
  },
  {
   "cell_type": "code",
   "execution_count": 178,
   "id": "66bafd95",
   "metadata": {},
   "outputs": [
    {
     "name": "stdout",
     "output_type": "stream",
     "text": [
      "<class 'pandas.core.frame.DataFrame'>\n",
      "RangeIndex: 301 entries, 0 to 300\n",
      "Data columns (total 9 columns):\n",
      " #   Column         Non-Null Count  Dtype  \n",
      "---  ------         --------------  -----  \n",
      " 0   Car_Name       301 non-null    object \n",
      " 1   Year           301 non-null    int64  \n",
      " 2   Present_Price  301 non-null    float64\n",
      " 3   Kms_Driven     301 non-null    int64  \n",
      " 4   Fuel_Type      301 non-null    object \n",
      " 5   Seller_Type    301 non-null    object \n",
      " 6   Transmission   301 non-null    object \n",
      " 7   Owner          301 non-null    int64  \n",
      " 8   Selling_Price  301 non-null    float64\n",
      "dtypes: float64(2), int64(3), object(4)\n",
      "memory usage: 21.3+ KB\n"
     ]
    }
   ],
   "source": [
    "df.info()"
   ]
  },
  {
   "cell_type": "code",
   "execution_count": 179,
   "id": "f820bc3b",
   "metadata": {},
   "outputs": [
    {
     "data": {
      "text/plain": [
       "(301, 9)"
      ]
     },
     "execution_count": 179,
     "metadata": {},
     "output_type": "execute_result"
    }
   ],
   "source": [
    "df.shape"
   ]
  },
  {
   "cell_type": "code",
   "execution_count": 180,
   "id": "f8bcc0bf",
   "metadata": {},
   "outputs": [
    {
     "data": {
      "text/html": [
       "<div>\n",
       "<style scoped>\n",
       "    .dataframe tbody tr th:only-of-type {\n",
       "        vertical-align: middle;\n",
       "    }\n",
       "\n",
       "    .dataframe tbody tr th {\n",
       "        vertical-align: top;\n",
       "    }\n",
       "\n",
       "    .dataframe thead th {\n",
       "        text-align: right;\n",
       "    }\n",
       "</style>\n",
       "<table border=\"1\" class=\"dataframe\">\n",
       "  <thead>\n",
       "    <tr style=\"text-align: right;\">\n",
       "      <th></th>\n",
       "      <th>Car_Name</th>\n",
       "      <th>Year</th>\n",
       "      <th>Present_Price</th>\n",
       "      <th>Kms_Driven</th>\n",
       "      <th>Fuel_Type</th>\n",
       "      <th>Seller_Type</th>\n",
       "      <th>Transmission</th>\n",
       "      <th>Owner</th>\n",
       "      <th>Selling_Price</th>\n",
       "    </tr>\n",
       "  </thead>\n",
       "  <tbody>\n",
       "    <tr>\n",
       "      <th>0</th>\n",
       "      <td>ritz</td>\n",
       "      <td>2014</td>\n",
       "      <td>5.59</td>\n",
       "      <td>27000</td>\n",
       "      <td>Petrol</td>\n",
       "      <td>Dealer</td>\n",
       "      <td>Manual</td>\n",
       "      <td>0</td>\n",
       "      <td>3.35</td>\n",
       "    </tr>\n",
       "    <tr>\n",
       "      <th>1</th>\n",
       "      <td>sx4</td>\n",
       "      <td>2013</td>\n",
       "      <td>9.54</td>\n",
       "      <td>43000</td>\n",
       "      <td>Diesel</td>\n",
       "      <td>Dealer</td>\n",
       "      <td>Manual</td>\n",
       "      <td>0</td>\n",
       "      <td>4.75</td>\n",
       "    </tr>\n",
       "  </tbody>\n",
       "</table>\n",
       "</div>"
      ],
      "text/plain": [
       "  Car_Name  Year  Present_Price  Kms_Driven Fuel_Type Seller_Type  \\\n",
       "0     ritz  2014           5.59       27000    Petrol      Dealer   \n",
       "1      sx4  2013           9.54       43000    Diesel      Dealer   \n",
       "\n",
       "  Transmission  Owner  Selling_Price  \n",
       "0       Manual      0           3.35  \n",
       "1       Manual      0           4.75  "
      ]
     },
     "execution_count": 180,
     "metadata": {},
     "output_type": "execute_result"
    }
   ],
   "source": [
    "df.head(2)"
   ]
  },
  {
   "cell_type": "code",
   "execution_count": 181,
   "id": "00433721",
   "metadata": {},
   "outputs": [
    {
     "name": "stdout",
     "output_type": "stream",
     "text": [
      "Total Car_Name:  98\n",
      "Total Fuel_Type:  3\n",
      "Total Seller_Type:  2\n",
      "Total Transmission:  2\n"
     ]
    }
   ],
   "source": [
    "\n",
    "print('Total Car_Name: ',len(df['Car_Name'].unique()))\n",
    "print('Total Fuel_Type: ',len(df['Fuel_Type'].unique()))\n",
    "print('Total Seller_Type: ',len(df['Seller_Type'].unique()))\n",
    "print('Total Transmission: ',len(df['Transmission'].unique()))"
   ]
  },
  {
   "cell_type": "code",
   "execution_count": 182,
   "id": "23ffee40",
   "metadata": {},
   "outputs": [],
   "source": [
    "from sklearn.preprocessing import LabelEncoder"
   ]
  },
  {
   "cell_type": "code",
   "execution_count": 183,
   "id": "a02f7b84",
   "metadata": {},
   "outputs": [],
   "source": [
    "Car_Name_le=LabelEncoder()\n",
    "df['Car_Name']=Car_Name_le.fit_transform(df['Car_Name'])"
   ]
  },
  {
   "cell_type": "code",
   "execution_count": 184,
   "id": "c25f338a",
   "metadata": {},
   "outputs": [],
   "source": [
    "Fuel_Type_le=LabelEncoder()\n",
    "df['Fuel_Type']=Fuel_Type_le.fit_transform(df['Fuel_Type'])"
   ]
  },
  {
   "cell_type": "code",
   "execution_count": 185,
   "id": "5fcb1c42",
   "metadata": {},
   "outputs": [],
   "source": [
    "Seller_Type_le=LabelEncoder()\n",
    "df['Seller_Type']=Seller_Type_le.fit_transform(df['Seller_Type'])"
   ]
  },
  {
   "cell_type": "code",
   "execution_count": 186,
   "id": "82170286",
   "metadata": {},
   "outputs": [],
   "source": [
    "Transmission_le=LabelEncoder()\n",
    "df['Transmission']=Transmission_le.fit_transform(df['Transmission'])"
   ]
  },
  {
   "cell_type": "code",
   "execution_count": 187,
   "id": "f14a21bc",
   "metadata": {},
   "outputs": [
    {
     "data": {
      "text/html": [
       "<div>\n",
       "<style scoped>\n",
       "    .dataframe tbody tr th:only-of-type {\n",
       "        vertical-align: middle;\n",
       "    }\n",
       "\n",
       "    .dataframe tbody tr th {\n",
       "        vertical-align: top;\n",
       "    }\n",
       "\n",
       "    .dataframe thead th {\n",
       "        text-align: right;\n",
       "    }\n",
       "</style>\n",
       "<table border=\"1\" class=\"dataframe\">\n",
       "  <thead>\n",
       "    <tr style=\"text-align: right;\">\n",
       "      <th></th>\n",
       "      <th>Car_Name</th>\n",
       "      <th>Year</th>\n",
       "      <th>Present_Price</th>\n",
       "      <th>Kms_Driven</th>\n",
       "      <th>Fuel_Type</th>\n",
       "      <th>Seller_Type</th>\n",
       "      <th>Transmission</th>\n",
       "      <th>Owner</th>\n",
       "      <th>Selling_Price</th>\n",
       "    </tr>\n",
       "  </thead>\n",
       "  <tbody>\n",
       "    <tr>\n",
       "      <th>0</th>\n",
       "      <td>90</td>\n",
       "      <td>2014</td>\n",
       "      <td>5.59</td>\n",
       "      <td>27000</td>\n",
       "      <td>2</td>\n",
       "      <td>0</td>\n",
       "      <td>1</td>\n",
       "      <td>0</td>\n",
       "      <td>3.35</td>\n",
       "    </tr>\n",
       "    <tr>\n",
       "      <th>1</th>\n",
       "      <td>93</td>\n",
       "      <td>2013</td>\n",
       "      <td>9.54</td>\n",
       "      <td>43000</td>\n",
       "      <td>1</td>\n",
       "      <td>0</td>\n",
       "      <td>1</td>\n",
       "      <td>0</td>\n",
       "      <td>4.75</td>\n",
       "    </tr>\n",
       "    <tr>\n",
       "      <th>2</th>\n",
       "      <td>68</td>\n",
       "      <td>2017</td>\n",
       "      <td>9.85</td>\n",
       "      <td>6900</td>\n",
       "      <td>2</td>\n",
       "      <td>0</td>\n",
       "      <td>1</td>\n",
       "      <td>0</td>\n",
       "      <td>7.25</td>\n",
       "    </tr>\n",
       "  </tbody>\n",
       "</table>\n",
       "</div>"
      ],
      "text/plain": [
       "   Car_Name  Year  Present_Price  Kms_Driven  Fuel_Type  Seller_Type  \\\n",
       "0        90  2014           5.59       27000          2            0   \n",
       "1        93  2013           9.54       43000          1            0   \n",
       "2        68  2017           9.85        6900          2            0   \n",
       "\n",
       "   Transmission  Owner  Selling_Price  \n",
       "0             1      0           3.35  \n",
       "1             1      0           4.75  \n",
       "2             1      0           7.25  "
      ]
     },
     "execution_count": 187,
     "metadata": {},
     "output_type": "execute_result"
    }
   ],
   "source": [
    "df.head(3)"
   ]
  },
  {
   "cell_type": "code",
   "execution_count": 188,
   "id": "e7fe1dcf",
   "metadata": {},
   "outputs": [
    {
     "name": "stdout",
     "output_type": "stream",
     "text": [
      "<class 'pandas.core.frame.DataFrame'>\n",
      "RangeIndex: 301 entries, 0 to 300\n",
      "Data columns (total 9 columns):\n",
      " #   Column         Non-Null Count  Dtype  \n",
      "---  ------         --------------  -----  \n",
      " 0   Car_Name       301 non-null    int32  \n",
      " 1   Year           301 non-null    int64  \n",
      " 2   Present_Price  301 non-null    float64\n",
      " 3   Kms_Driven     301 non-null    int64  \n",
      " 4   Fuel_Type      301 non-null    int32  \n",
      " 5   Seller_Type    301 non-null    int32  \n",
      " 6   Transmission   301 non-null    int32  \n",
      " 7   Owner          301 non-null    int64  \n",
      " 8   Selling_Price  301 non-null    float64\n",
      "dtypes: float64(2), int32(4), int64(3)\n",
      "memory usage: 16.6 KB\n"
     ]
    }
   ],
   "source": [
    "df.info()"
   ]
  },
  {
   "cell_type": "code",
   "execution_count": 189,
   "id": "0573e5b7",
   "metadata": {},
   "outputs": [
    {
     "data": {
      "text/html": [
       "<div>\n",
       "<style scoped>\n",
       "    .dataframe tbody tr th:only-of-type {\n",
       "        vertical-align: middle;\n",
       "    }\n",
       "\n",
       "    .dataframe tbody tr th {\n",
       "        vertical-align: top;\n",
       "    }\n",
       "\n",
       "    .dataframe thead th {\n",
       "        text-align: right;\n",
       "    }\n",
       "</style>\n",
       "<table border=\"1\" class=\"dataframe\">\n",
       "  <thead>\n",
       "    <tr style=\"text-align: right;\">\n",
       "      <th></th>\n",
       "      <th>Car_Name</th>\n",
       "      <th>Year</th>\n",
       "      <th>Present_Price</th>\n",
       "      <th>Kms_Driven</th>\n",
       "      <th>Fuel_Type</th>\n",
       "      <th>Seller_Type</th>\n",
       "      <th>Transmission</th>\n",
       "      <th>Owner</th>\n",
       "      <th>Selling_Price</th>\n",
       "    </tr>\n",
       "  </thead>\n",
       "  <tbody>\n",
       "    <tr>\n",
       "      <th>0</th>\n",
       "      <td>90</td>\n",
       "      <td>2014</td>\n",
       "      <td>5.59</td>\n",
       "      <td>27000</td>\n",
       "      <td>2</td>\n",
       "      <td>0</td>\n",
       "      <td>1</td>\n",
       "      <td>0</td>\n",
       "      <td>3.35</td>\n",
       "    </tr>\n",
       "    <tr>\n",
       "      <th>1</th>\n",
       "      <td>93</td>\n",
       "      <td>2013</td>\n",
       "      <td>9.54</td>\n",
       "      <td>43000</td>\n",
       "      <td>1</td>\n",
       "      <td>0</td>\n",
       "      <td>1</td>\n",
       "      <td>0</td>\n",
       "      <td>4.75</td>\n",
       "    </tr>\n",
       "    <tr>\n",
       "      <th>2</th>\n",
       "      <td>68</td>\n",
       "      <td>2017</td>\n",
       "      <td>9.85</td>\n",
       "      <td>6900</td>\n",
       "      <td>2</td>\n",
       "      <td>0</td>\n",
       "      <td>1</td>\n",
       "      <td>0</td>\n",
       "      <td>7.25</td>\n",
       "    </tr>\n",
       "    <tr>\n",
       "      <th>3</th>\n",
       "      <td>96</td>\n",
       "      <td>2011</td>\n",
       "      <td>4.15</td>\n",
       "      <td>5200</td>\n",
       "      <td>2</td>\n",
       "      <td>0</td>\n",
       "      <td>1</td>\n",
       "      <td>0</td>\n",
       "      <td>2.85</td>\n",
       "    </tr>\n",
       "    <tr>\n",
       "      <th>4</th>\n",
       "      <td>92</td>\n",
       "      <td>2014</td>\n",
       "      <td>6.87</td>\n",
       "      <td>42450</td>\n",
       "      <td>1</td>\n",
       "      <td>0</td>\n",
       "      <td>1</td>\n",
       "      <td>0</td>\n",
       "      <td>4.60</td>\n",
       "    </tr>\n",
       "  </tbody>\n",
       "</table>\n",
       "</div>"
      ],
      "text/plain": [
       "   Car_Name  Year  Present_Price  Kms_Driven  Fuel_Type  Seller_Type  \\\n",
       "0        90  2014           5.59       27000          2            0   \n",
       "1        93  2013           9.54       43000          1            0   \n",
       "2        68  2017           9.85        6900          2            0   \n",
       "3        96  2011           4.15        5200          2            0   \n",
       "4        92  2014           6.87       42450          1            0   \n",
       "\n",
       "   Transmission  Owner  Selling_Price  \n",
       "0             1      0           3.35  \n",
       "1             1      0           4.75  \n",
       "2             1      0           7.25  \n",
       "3             1      0           2.85  \n",
       "4             1      0           4.60  "
      ]
     },
     "execution_count": 189,
     "metadata": {},
     "output_type": "execute_result"
    }
   ],
   "source": [
    "df.head()"
   ]
  },
  {
   "cell_type": "code",
   "execution_count": 190,
   "id": "7d7fc7de",
   "metadata": {},
   "outputs": [
    {
     "data": {
      "image/png": "[encoded data removed]",
      "text/plain": [
       "<Figure size 1700x600 with 2 Axes>"
      ]
     },
     "metadata": {},
     "output_type": "display_data"
    }
   ],
   "source": [
    "plt.figure(figsize=(17,6))\n",
    "sns.heatmap(data=df.corr(),annot=True)\n",
    "plt.show()"
   ]
  },
  {
   "cell_type": "code",
   "execution_count": 191,
   "id": "6782433c",
   "metadata": {},
   "outputs": [],
   "source": [
    "input_data=df.iloc[:,:-1]\n",
    "output_data=df['Selling_Price']"
   ]
  },
  {
   "cell_type": "code",
   "execution_count": 192,
   "id": "32491635",
   "metadata": {},
   "outputs": [],
   "source": [
    "from sklearn.preprocessing import StandardScaler"
   ]
  },
  {
   "cell_type": "code",
   "execution_count": 193,
   "id": "787df77d",
   "metadata": {},
   "outputs": [
    {
     "data": {
      "text/html": [
       "<div>\n",
       "<style scoped>\n",
       "    .dataframe tbody tr th:only-of-type {\n",
       "        vertical-align: middle;\n",
       "    }\n",
       "\n",
       "    .dataframe tbody tr th {\n",
       "        vertical-align: top;\n",
       "    }\n",
       "\n",
       "    .dataframe thead th {\n",
       "        text-align: right;\n",
       "    }\n",
       "</style>\n",
       "<table border=\"1\" class=\"dataframe\">\n",
       "  <thead>\n",
       "    <tr style=\"text-align: right;\">\n",
       "      <th></th>\n",
       "      <th>Car_Name</th>\n",
       "      <th>Year</th>\n",
       "      <th>Present_Price</th>\n",
       "      <th>Kms_Driven</th>\n",
       "      <th>Fuel_Type</th>\n",
       "      <th>Seller_Type</th>\n",
       "      <th>Transmission</th>\n",
       "      <th>Owner</th>\n",
       "    </tr>\n",
       "  </thead>\n",
       "  <tbody>\n",
       "    <tr>\n",
       "      <th>0</th>\n",
       "      <td>1.074323</td>\n",
       "      <td>0.128897</td>\n",
       "      <td>-0.236215</td>\n",
       "      <td>-0.256224</td>\n",
       "      <td>0.500183</td>\n",
       "      <td>-0.737285</td>\n",
       "      <td>0.39148</td>\n",
       "      <td>-0.174501</td>\n",
       "    </tr>\n",
       "    <tr>\n",
       "      <th>1</th>\n",
       "      <td>1.191828</td>\n",
       "      <td>-0.217514</td>\n",
       "      <td>0.221505</td>\n",
       "      <td>0.155911</td>\n",
       "      <td>-1.852241</td>\n",
       "      <td>-0.737285</td>\n",
       "      <td>0.39148</td>\n",
       "      <td>-0.174501</td>\n",
       "    </tr>\n",
       "    <tr>\n",
       "      <th>2</th>\n",
       "      <td>0.212627</td>\n",
       "      <td>1.168129</td>\n",
       "      <td>0.257427</td>\n",
       "      <td>-0.773969</td>\n",
       "      <td>0.500183</td>\n",
       "      <td>-0.737285</td>\n",
       "      <td>0.39148</td>\n",
       "      <td>-0.174501</td>\n",
       "    </tr>\n",
       "    <tr>\n",
       "      <th>3</th>\n",
       "      <td>1.309332</td>\n",
       "      <td>-0.910335</td>\n",
       "      <td>-0.403079</td>\n",
       "      <td>-0.817758</td>\n",
       "      <td>0.500183</td>\n",
       "      <td>-0.737285</td>\n",
       "      <td>0.39148</td>\n",
       "      <td>-0.174501</td>\n",
       "    </tr>\n",
       "    <tr>\n",
       "      <th>4</th>\n",
       "      <td>1.152659</td>\n",
       "      <td>0.128897</td>\n",
       "      <td>-0.087890</td>\n",
       "      <td>0.141743</td>\n",
       "      <td>-1.852241</td>\n",
       "      <td>-0.737285</td>\n",
       "      <td>0.39148</td>\n",
       "      <td>-0.174501</td>\n",
       "    </tr>\n",
       "    <tr>\n",
       "      <th>...</th>\n",
       "      <td>...</td>\n",
       "      <td>...</td>\n",
       "      <td>...</td>\n",
       "      <td>...</td>\n",
       "      <td>...</td>\n",
       "      <td>...</td>\n",
       "      <td>...</td>\n",
       "      <td>...</td>\n",
       "    </tr>\n",
       "    <tr>\n",
       "      <th>296</th>\n",
       "      <td>0.251795</td>\n",
       "      <td>0.821718</td>\n",
       "      <td>0.460214</td>\n",
       "      <td>-0.076225</td>\n",
       "      <td>-1.852241</td>\n",
       "      <td>-0.737285</td>\n",
       "      <td>0.39148</td>\n",
       "      <td>-0.174501</td>\n",
       "    </tr>\n",
       "    <tr>\n",
       "      <th>297</th>\n",
       "      <td>0.134290</td>\n",
       "      <td>0.475308</td>\n",
       "      <td>-0.200292</td>\n",
       "      <td>0.593804</td>\n",
       "      <td>0.500183</td>\n",
       "      <td>-0.737285</td>\n",
       "      <td>0.39148</td>\n",
       "      <td>-0.174501</td>\n",
       "    </tr>\n",
       "    <tr>\n",
       "      <th>298</th>\n",
       "      <td>0.251795</td>\n",
       "      <td>-1.603156</td>\n",
       "      <td>0.390687</td>\n",
       "      <td>1.313340</td>\n",
       "      <td>0.500183</td>\n",
       "      <td>-0.737285</td>\n",
       "      <td>0.39148</td>\n",
       "      <td>-0.174501</td>\n",
       "    </tr>\n",
       "    <tr>\n",
       "      <th>299</th>\n",
       "      <td>0.251795</td>\n",
       "      <td>1.168129</td>\n",
       "      <td>0.564504</td>\n",
       "      <td>-0.719876</td>\n",
       "      <td>-1.852241</td>\n",
       "      <td>-0.737285</td>\n",
       "      <td>0.39148</td>\n",
       "      <td>-0.174501</td>\n",
       "    </tr>\n",
       "    <tr>\n",
       "      <th>300</th>\n",
       "      <td>0.134290</td>\n",
       "      <td>0.821718</td>\n",
       "      <td>-0.200292</td>\n",
       "      <td>-0.810958</td>\n",
       "      <td>0.500183</td>\n",
       "      <td>-0.737285</td>\n",
       "      <td>0.39148</td>\n",
       "      <td>-0.174501</td>\n",
       "    </tr>\n",
       "  </tbody>\n",
       "</table>\n",
       "<p>301 rows × 8 columns</p>\n",
       "</div>"
      ],
      "text/plain": [
       "     Car_Name      Year  Present_Price  Kms_Driven  Fuel_Type  Seller_Type  \\\n",
       "0    1.074323  0.128897      -0.236215   -0.256224   0.500183    -0.737285   \n",
       "1    1.191828 -0.217514       0.221505    0.155911  -1.852241    -0.737285   \n",
       "2    0.212627  1.168129       0.257427   -0.773969   0.500183    -0.737285   \n",
       "3    1.309332 -0.910335      -0.403079   -0.817758   0.500183    -0.737285   \n",
       "4    1.152659  0.128897      -0.087890    0.141743  -1.852241    -0.737285   \n",
       "..        ...       ...            ...         ...        ...          ...   \n",
       "296  0.251795  0.821718       0.460214   -0.076225  -1.852241    -0.737285   \n",
       "297  0.134290  0.475308      -0.200292    0.593804   0.500183    -0.737285   \n",
       "298  0.251795 -1.603156       0.390687    1.313340   0.500183    -0.737285   \n",
       "299  0.251795  1.168129       0.564504   -0.719876  -1.852241    -0.737285   \n",
       "300  0.134290  0.821718      -0.200292   -0.810958   0.500183    -0.737285   \n",
       "\n",
       "     Transmission     Owner  \n",
       "0         0.39148 -0.174501  \n",
       "1         0.39148 -0.174501  \n",
       "2         0.39148 -0.174501  \n",
       "3         0.39148 -0.174501  \n",
       "4         0.39148 -0.174501  \n",
       "..            ...       ...  \n",
       "296       0.39148 -0.174501  \n",
       "297       0.39148 -0.174501  \n",
       "298       0.39148 -0.174501  \n",
       "299       0.39148 -0.174501  \n",
       "300       0.39148 -0.174501  \n",
       "\n",
       "[301 rows x 8 columns]"
      ]
     },
     "execution_count": 193,
     "metadata": {},
     "output_type": "execute_result"
    }
   ],
   "source": [
    "st=StandardScaler()\n",
    "input_data=pd.DataFrame(st.fit_transform(input_data),columns=input_data.columns)\n",
    "input_data"
   ]
  },
  {
   "cell_type": "code",
   "execution_count": 194,
   "id": "01cd66e5",
   "metadata": {},
   "outputs": [],
   "source": [
    "from sklearn.model_selection import train_test_split"
   ]
  },
  {
   "cell_type": "code",
   "execution_count": 195,
   "id": "61132ad4",
   "metadata": {},
   "outputs": [],
   "source": [
    "x_train,x_test,y_train,y_test=train_test_split(input_data,output_data,test_size=0.25,random_state=42)"
   ]
  },
  {
   "cell_type": "code",
   "execution_count": 196,
   "id": "1904e03f",
   "metadata": {},
   "outputs": [],
   "source": [
    "from sklearn.linear_model import LinearRegression,Lasso,Ridge,ElasticNet\n",
    "from sklearn.tree import DecisionTreeRegressor\n",
    "from sklearn.ensemble import RandomForestRegressor\n",
    "from sklearn.svm import SVR\n",
    "from sklearn.neighbors import KNeighborsRegressor\n",
    "from sklearn.gaussian_process import GaussianProcessRegressor\n"
   ]
  },
  {
   "cell_type": "code",
   "execution_count": 197,
   "id": "eaf0696b",
   "metadata": {},
   "outputs": [],
   "source": [
    "from sklearn.metrics import mean_absolute_error,mean_squared_error"
   ]
  },
  {
   "cell_type": "code",
   "execution_count": 198,
   "id": "1543bb44",
   "metadata": {},
   "outputs": [
    {
     "data": {
      "text/plain": [
       "(87.78410070723601, '  ', 87.50948894955161)"
      ]
     },
     "execution_count": 198,
     "metadata": {},
     "output_type": "execute_result"
    }
   ],
   "source": [
    "l=LinearRegression()\n",
    "l.fit(x_train,y_train)\n",
    "l.score(x_train,y_train)*100,'  ',l.score(x_test,y_test)*100"
   ]
  },
  {
   "cell_type": "code",
   "execution_count": 199,
   "id": "bb1963e7",
   "metadata": {},
   "outputs": [
    {
     "data": {
      "text/plain": [
       "(76.78710613562471, '  ', 72.01166003017543)"
      ]
     },
     "execution_count": 199,
     "metadata": {},
     "output_type": "execute_result"
    }
   ],
   "source": [
    "l1=Lasso()\n",
    "l1.fit(x_train,y_train)\n",
    "l1.score(x_train,y_train)*100,'  ',l1.score(x_test,y_test)*100"
   ]
  },
  {
   "cell_type": "code",
   "execution_count": 200,
   "id": "d216b00f",
   "metadata": {},
   "outputs": [
    {
     "data": {
      "text/plain": [
       "(87.78251707146966, '  ', 87.45353129107029)"
      ]
     },
     "execution_count": 200,
     "metadata": {},
     "output_type": "execute_result"
    }
   ],
   "source": [
    "l2=Ridge()\n",
    "l2.fit(x_train,y_train)\n",
    "l2.score(x_train,y_train)*100,'  ',l2.score(x_test,y_test)*100"
   ]
  },
  {
   "cell_type": "code",
   "execution_count": 201,
   "id": "0661c36b",
   "metadata": {},
   "outputs": [
    {
     "data": {
      "text/plain": [
       "(100.0, '  ', 95.44692736106494)"
      ]
     },
     "execution_count": 201,
     "metadata": {},
     "output_type": "execute_result"
    }
   ],
   "source": [
    "l3=DecisionTreeRegressor()\n",
    "l3.fit(x_train,y_train)\n",
    "l3.score(x_train,y_train)*100,'  ',l3.score(x_test,y_test)*100"
   ]
  },
  {
   "cell_type": "code",
   "execution_count": 202,
   "id": "43636a1f",
   "metadata": {},
   "outputs": [
    {
     "name": "stdout",
     "output_type": "stream",
     "text": [
      "Error in DecisionTreeRegressor\n",
      "absolute:  66.09210526315789\n",
      "squared:  125.09249999999999\n"
     ]
    }
   ],
   "source": [
    "print('Error in DecisionTreeRegressor')\n",
    "print('absolute: ',mean_absolute_error(y_test,l3.predict(x_test))*100)\n",
    "print('squared: ',mean_squared_error(y_test,l3.predict(x_test))*100)"
   ]
  },
  {
   "cell_type": "code",
   "execution_count": 203,
   "id": "c0b0db6e",
   "metadata": {},
   "outputs": [
    {
     "data": {
      "text/plain": [
       "(98.01980434093399, '  ', 97.05644377492155)"
      ]
     },
     "execution_count": 203,
     "metadata": {},
     "output_type": "execute_result"
    }
   ],
   "source": [
    "l4=RandomForestRegressor()\n",
    "l4.fit(x_train,y_train)\n",
    "l4.score(x_train,y_train)*100,'  ',l4.score(x_test,y_test)*100"
   ]
  },
  {
   "cell_type": "code",
   "execution_count": 204,
   "id": "9a96e48b",
   "metadata": {},
   "outputs": [
    {
     "name": "stdout",
     "output_type": "stream",
     "text": [
      "Error in RandomForestRegressor\n",
      "absolute:  57.27921052631578\n",
      "squared:  80.8721573947368\n"
     ]
    }
   ],
   "source": [
    "print('Error in RandomForestRegressor')\n",
    "print('absolute: ',mean_absolute_error(y_test,l4.predict(x_test))*100)\n",
    "print('squared: ',mean_squared_error(y_test,l4.predict(x_test))*100)"
   ]
  },
  {
   "cell_type": "code",
   "execution_count": 205,
   "id": "5839912b",
   "metadata": {},
   "outputs": [
    {
     "data": {
      "text/plain": [
       "(89.660290652889, '  ', 94.43316362619612)"
      ]
     },
     "execution_count": 205,
     "metadata": {},
     "output_type": "execute_result"
    }
   ],
   "source": [
    "l5=KNeighborsRegressor()\n",
    "l5.fit(x_train,y_train)\n",
    "l5.score(x_train,y_train)*100,'  ',l5.score(x_test,y_test)*100"
   ]
  },
  {
   "cell_type": "code",
   "execution_count": 206,
   "id": "f9adbb34",
   "metadata": {},
   "outputs": [
    {
     "data": {
      "text/plain": [
       "(59.70932250004191, '  ', 70.83731262354618)"
      ]
     },
     "execution_count": 206,
     "metadata": {},
     "output_type": "execute_result"
    }
   ],
   "source": [
    "l6=SVR()\n",
    "l6.fit(x_train,y_train)\n",
    "l6.score(x_train,y_train)*100,'  ',l6.score(x_test,y_test)*100"
   ]
  },
  {
   "cell_type": "code",
   "execution_count": 207,
   "id": "382bd01e",
   "metadata": {},
   "outputs": [
    {
     "data": {
      "text/plain": [
       "(99.99973696745123, '  ', -3739.0457453976687)"
      ]
     },
     "execution_count": 207,
     "metadata": {},
     "output_type": "execute_result"
    }
   ],
   "source": [
    "l7=GaussianProcessRegressor()\n",
    "l7.fit(x_train,y_train)\n",
    "l7.score(x_train,y_train)*100,'  ',l7.score(x_test,y_test)*100"
   ]
  },
  {
   "cell_type": "code",
   "execution_count": 208,
   "id": "999bba58",
   "metadata": {},
   "outputs": [
    {
     "name": "stdout",
     "output_type": "stream",
     "text": [
      "RandomForestRegressor is more suitable\n"
     ]
    }
   ],
   "source": [
    "print('RandomForestRegressor is more suitable')"
   ]
  },
  {
   "cell_type": "code",
   "execution_count": 209,
   "id": "8b49dd4a",
   "metadata": {},
   "outputs": [
    {
     "name": "stderr",
     "output_type": "stream",
     "text": [
      "c:\\ProgramData\\anaconda3\\Lib\\site-packages\\sklearn\\base.py:493: UserWarning: X does not have valid feature names, but RandomForestRegressor was fitted with feature names\n",
      "  warnings.warn(\n"
     ]
    },
    {
     "data": {
      "text/plain": [
       "array([3.918])"
      ]
     },
     "execution_count": 209,
     "metadata": {},
     "output_type": "execute_result"
    }
   ],
   "source": [
    "l4.predict([[1.074323,0.128897,-0.236215,-0.256224,0.500183,-0.737285,0.39148,-0.174501]])"
   ]
  },
  {
   "cell_type": "code",
   "execution_count": 210,
   "id": "d8b9d2e4",
   "metadata": {},
   "outputs": [],
   "source": [
    "dff=pd.DataFrame([['ritz',2014,5.59,27000,'Petrol','Dealer','Manual',0]],columns=input_data.columns)"
   ]
  },
  {
   "cell_type": "code",
   "execution_count": 211,
   "id": "5c673f36",
   "metadata": {},
   "outputs": [],
   "source": [
    "\n",
    "dff['Car_Name']=Car_Name_le.transform(dff['Car_Name'])"
   ]
  },
  {
   "cell_type": "code",
   "execution_count": 212,
   "id": "adb86d03",
   "metadata": {},
   "outputs": [],
   "source": [
    "dff['Fuel_Type']=Fuel_Type_le.transform(dff['Fuel_Type'])"
   ]
  },
  {
   "cell_type": "code",
   "execution_count": 213,
   "id": "90b2e620",
   "metadata": {},
   "outputs": [],
   "source": [
    "\n",
    "dff['Seller_Type']=Seller_Type_le.transform(dff['Seller_Type'])"
   ]
  },
  {
   "cell_type": "code",
   "execution_count": 214,
   "id": "214132f2",
   "metadata": {},
   "outputs": [],
   "source": [
    "\n",
    "dff['Transmission']=Transmission_le.transform(dff['Transmission'])"
   ]
  },
  {
   "cell_type": "code",
   "execution_count": 215,
   "id": "444b4aff",
   "metadata": {},
   "outputs": [],
   "source": [
    "inputtt=pd.DataFrame(st.transform(dff),columns=dff.columns)"
   ]
  },
  {
   "cell_type": "code",
   "execution_count": 216,
   "id": "30eb5b60",
   "metadata": {},
   "outputs": [
    {
     "data": {
      "text/plain": [
       "array([3.918])"
      ]
     },
     "execution_count": 216,
     "metadata": {},
     "output_type": "execute_result"
    }
   ],
   "source": [
    "l4.predict(inputtt)"
   ]
  }
 ],
 "metadata": {
  "kernelspec": {
   "display_name": "base",
   "language": "python",
   "name": "python3"
  },
  "language_info": {
   "codemirror_mode": {
    "name": "ipython",
    "version": 3
   },
   "file_extension": ".py",
   "mimetype": "text/x-python",
   "name": "python",
   "nbconvert_exporter": "python",
   "pygments_lexer": "ipython3",
   "version": "3.12.7"
  }
 },
 "nbformat": 4,
 "nbformat_minor": 5
}
